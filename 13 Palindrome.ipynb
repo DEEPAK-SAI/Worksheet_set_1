{
 "cells": [
  {
   "cell_type": "code",
   "execution_count": 10,
   "id": "c8ede8ee",
   "metadata": {},
   "outputs": [
    {
     "name": "stdout",
     "output_type": "stream",
     "text": [
      "Enter a string: ADA\n",
      "ADA is palindrome\n"
     ]
    }
   ],
   "source": [
    "x = input(\"Enter a string: \")\n",
    "\n",
    "if(x[:]  == x[::-1]):\n",
    "    print(x, \"is palindrome\")\n",
    "else:\n",
    "    print(x, \"is not palindrome\")"
   ]
  },
  {
   "cell_type": "code",
   "execution_count": null,
   "id": "cf2beb44",
   "metadata": {},
   "outputs": [],
   "source": []
  }
 ],
 "metadata": {
  "kernelspec": {
   "display_name": "Python 3 (ipykernel)",
   "language": "python",
   "name": "python3"
  },
  "language_info": {
   "codemirror_mode": {
    "name": "ipython",
    "version": 3
   },
   "file_extension": ".py",
   "mimetype": "text/x-python",
   "name": "python",
   "nbconvert_exporter": "python",
   "pygments_lexer": "ipython3",
   "version": "3.9.7"
  }
 },
 "nbformat": 4,
 "nbformat_minor": 5
}
