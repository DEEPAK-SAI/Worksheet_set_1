{
 "cells": [
  {
   "cell_type": "code",
   "execution_count": 6,
   "id": "117b2b86",
   "metadata": {},
   "outputs": [
    {
     "name": "stdout",
     "output_type": "stream",
     "text": [
      "Enter the first side of a triangle 3\n"
     ]
    }
   ],
   "source": [
    "a = float(input(\"Enter the first side of a triangle \"))"
   ]
  },
  {
   "cell_type": "code",
   "execution_count": 12,
   "id": "fa756893",
   "metadata": {},
   "outputs": [
    {
     "name": "stdout",
     "output_type": "stream",
     "text": [
      "Enter the second side of a triangle 4\n"
     ]
    }
   ],
   "source": [
    "b = float(input(\"Enter the second side of a triangle \"))"
   ]
  },
  {
   "cell_type": "code",
   "execution_count": 13,
   "id": "9b978698",
   "metadata": {},
   "outputs": [],
   "source": [
    "c = (a**2 + b**2)**(1/2)"
   ]
  },
  {
   "cell_type": "code",
   "execution_count": 15,
   "id": "61b88113",
   "metadata": {},
   "outputs": [
    {
     "name": "stdout",
     "output_type": "stream",
     "text": [
      "The thrid side is  5.0\n"
     ]
    }
   ],
   "source": [
    "print(\"The thrid side is \", c)"
   ]
  },
  {
   "cell_type": "code",
   "execution_count": null,
   "id": "a529c616",
   "metadata": {},
   "outputs": [],
   "source": []
  }
 ],
 "metadata": {
  "kernelspec": {
   "display_name": "Python 3 (ipykernel)",
   "language": "python",
   "name": "python3"
  },
  "language_info": {
   "codemirror_mode": {
    "name": "ipython",
    "version": 3
   },
   "file_extension": ".py",
   "mimetype": "text/x-python",
   "name": "python",
   "nbconvert_exporter": "python",
   "pygments_lexer": "ipython3",
   "version": "3.9.7"
  }
 },
 "nbformat": 4,
 "nbformat_minor": 5
}
